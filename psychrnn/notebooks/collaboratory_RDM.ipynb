{
  "nbformat": 4,
  "nbformat_minor": 0,
  "metadata": {
    "kernelspec": {
      "display_name": "Python 3",
      "language": "python",
      "name": "python3"
    },
    "language_info": {
      "codemirror_mode": {
        "name": "ipython",
        "version": 3
      },
      "file_extension": ".py",
      "mimetype": "text/x-python",
      "name": "python",
      "nbconvert_exporter": "python",
      "pygments_lexer": "ipython3",
      "version": "3.6.7"
    },
    "colab": {
      "name": "RDM.ipynb",
      "provenance": [],
      "include_colab_link": true
    }
  },
  "cells": [
    {
      "cell_type": "markdown",
      "metadata": {
        "id": "view-in-github",
        "colab_type": "text"
      },
      "source": [
        "<a href=\"https://colab.research.google.com/github/dbehrlich/PsychRNN/blob/master/psychrnn/notebooks/collaboratory_RDM.ipynb\" target=\"_parent\"><img src=\"https://colab.research.google.com/assets/colab-badge.svg\" alt=\"Open In Colab\"/></a>"
      ]
    },
    {
      "cell_type": "code",
      "metadata": {
        "id": "covk6Bo8wfWJ",
        "colab_type": "code",
        "colab": {
          "base_uri": "https://localhost:8080/",
          "height": 190
        },
        "outputId": "e7845d56-b715-46f0-d77d-7406b5f261df"
      },
      "source": [
        "!pip install git+https://github.com/dbehrlich/PsychRNN"
      ],
      "execution_count": 1,
      "outputs": [
        {
          "output_type": "stream",
          "text": [
            "Collecting git+https://github.com/dbehrlich/PsychRNN\n",
            "  Cloning https://github.com/dbehrlich/PsychRNN to /tmp/pip-req-build-4l_gw265\n",
            "  Running command git clone -q https://github.com/dbehrlich/PsychRNN /tmp/pip-req-build-4l_gw265\n",
            "Requirement already satisfied (use --upgrade to upgrade): PsychRNN==0.4 from git+https://github.com/dbehrlich/PsychRNN in /usr/local/lib/python3.6/dist-packages\n",
            "Building wheels for collected packages: PsychRNN\n",
            "  Building wheel for PsychRNN (setup.py) ... \u001b[?25l\u001b[?25hdone\n",
            "  Created wheel for PsychRNN: filename=PsychRNN-0.4-cp36-none-any.whl size=19002 sha256=cf18591b3843287c698f7e00214749bd02ffe162f528bd7629933bc0fc9a068f\n",
            "  Stored in directory: /tmp/pip-ephem-wheel-cache-byiw3u9a/wheels/24/44/54/2501bc5f6d66714639081a558a3ddf4be814710f2c30c745fc\n",
            "Successfully built PsychRNN\n"
          ],
          "name": "stdout"
        }
      ]
    },
    {
      "cell_type": "code",
      "metadata": {
        "id": "uukGDm0evh51",
        "colab_type": "code",
        "colab": {}
      },
      "source": [
        "import psychrnn\n",
        "from psychrnn.tasks import rdm as rd\n",
        "from psychrnn.backend.models.basic import Basic\n",
        "\n",
        "import tensorflow as tf\n",
        "from matplotlib import pyplot as plt\n",
        "%matplotlib inline"
      ],
      "execution_count": 0,
      "outputs": []
    },
    {
      "cell_type": "markdown",
      "metadata": {
        "id": "CHry-EvEvh6A",
        "colab_type": "text"
      },
      "source": [
        "define params globally first before passing to RDM, mess w/ model params and explain what can do. (can turn on and off dale's law). some masking, input output connectivity. train_params variables stuff"
      ]
    },
    {
      "cell_type": "code",
      "metadata": {
        "id": "XRxlt3Aivh6H",
        "colab_type": "code",
        "colab": {}
      },
      "source": [
        "dt = 10 # time-step\n",
        "tau = 100 # intrinsic time constant of neural state decay\n",
        "T = 2000 # time to run for (number of steps is T/dt)\n",
        "N_batch = 50 # number of trials per training step\n",
        "N_rec = 50 # number of recurrent units\n",
        "name = 'basicModel'"
      ],
      "execution_count": 0,
      "outputs": []
    },
    {
      "cell_type": "code",
      "metadata": {
        "id": "bLE6vdwCvh6M",
        "colab_type": "code",
        "colab": {}
      },
      "source": [
        "rdm = rd.RDM(dt = dt, tau = tau, T = T, N_batch = N_batch)"
      ],
      "execution_count": 0,
      "outputs": []
    },
    {
      "cell_type": "markdown",
      "metadata": {
        "id": "cJngPldvvh6W",
        "colab_type": "text"
      },
      "source": [
        "RDM puts the params passed in as well as other generated params into a dict we can then use to create our model. "
      ]
    },
    {
      "cell_type": "code",
      "metadata": {
        "id": "RSo4PGRcvh8N",
        "colab_type": "code",
        "outputId": "8bc6fe6b-6898-419e-8832-6a71c5669b6a",
        "colab": {
          "base_uri": "https://localhost:8080/",
          "height": 34
        }
      },
      "source": [
        "params = rdm.__dict__\n",
        "print(params)"
      ],
      "execution_count": 5,
      "outputs": [
        {
          "output_type": "stream",
          "text": [
            "{'N_batch': 50, 'N_in': 2, 'N_out': 2, 'dt': 10, 'tau': 100, 'T': 2000, 'alpha': 0.1, 'N_steps': 200, 'coherence': None}\n"
          ],
          "name": "stdout"
        }
      ]
    },
    {
      "cell_type": "markdown",
      "metadata": {
        "id": "l3GNj1qcvh8S",
        "colab_type": "text"
      },
      "source": [
        "Generate *N_batch* trials to be used in training"
      ]
    },
    {
      "cell_type": "code",
      "metadata": {
        "id": "XsNrC39Yvh8T",
        "colab_type": "code",
        "colab": {}
      },
      "source": [
        "gen = rdm.batch_generator()"
      ],
      "execution_count": 0,
      "outputs": []
    },
    {
      "cell_type": "markdown",
      "metadata": {
        "id": "SMXz0us5vh8W",
        "colab_type": "text"
      },
      "source": [
        "We add in a few params that Basic(RNN) needs but that RDM doesn't generate for us."
      ]
    },
    {
      "cell_type": "code",
      "metadata": {
        "id": "QeFIOHxBvh8X",
        "colab_type": "code",
        "colab": {}
      },
      "source": [
        "params['name'] = name #Used to scope out a namespace for global variables.\n",
        "params['N_rec'] = N_rec"
      ],
      "execution_count": 0,
      "outputs": []
    },
    {
      "cell_type": "markdown",
      "metadata": {
        "id": "VWkLFaRWvh8Z",
        "colab_type": "text"
      },
      "source": [
        "There are some other optional parameters we can add in:"
      ]
    },
    {
      "cell_type": "code",
      "metadata": {
        "id": "EE5ccvjGvh8a",
        "colab_type": "code",
        "colab": {}
      },
      "source": [
        "params['dale_ratio'] = None # Default: None -- when the dale_ratio is set, dale's law is applied\n",
        "params['rec_noise'] = 0.0 # Default: 0.0 -- how much noise to add to the new_state calculation\n",
        "params['W_in_train'] = True # Indicates whether W_in is trainable. Default: True\n",
        "params['W_rec_train'] = True # Indicates whether W_rec is trainable. Default: True\n",
        "params['W_out_train'] = True # Indicates whether W_out is trainable. Default: True\n",
        "params['b_rec_train'] = True # Indicates whether b_rec is trainable. Default: True\n",
        "params['b_out_train'] = True # Indicates whether b_out is trainable. Default: True\n",
        "params['init_state_train'] = True # Indicates whether init_state is trainable. Default: True\n",
        "params['load_weights_path'] = None # When given a path, loads weights from file in that path. Default: None"
      ],
      "execution_count": 0,
      "outputs": []
    },
    {
      "cell_type": "markdown",
      "metadata": {
        "id": "M4B5PxQcvh8d",
        "colab_type": "text"
      },
      "source": [
        "Instantiate our model"
      ]
    },
    {
      "cell_type": "code",
      "metadata": {
        "id": "bXLw3NkFvh8e",
        "colab_type": "code",
        "outputId": "cc5145df-04bf-4554-f730-7d92381d6902",
        "colab": {
          "base_uri": "https://localhost:8080/",
          "height": 139
        }
      },
      "source": [
        "basicModel = Basic(params)"
      ],
      "execution_count": 9,
      "outputs": [
        {
          "output_type": "stream",
          "text": [
            "WARNING:tensorflow:From /usr/local/lib/python3.6/dist-packages/psychrnn/backend/rnn.py:120: The name tf.placeholder is deprecated. Please use tf.compat.v1.placeholder instead.\n",
            "\n",
            "WARNING:tensorflow:From /usr/local/lib/python3.6/dist-packages/psychrnn/backend/rnn.py:127: The name tf.variable_scope is deprecated. Please use tf.compat.v1.variable_scope instead.\n",
            "\n",
            "WARNING:tensorflow:From /usr/local/lib/python3.6/dist-packages/psychrnn/backend/rnn.py:133: The name tf.get_variable is deprecated. Please use tf.compat.v1.get_variable instead.\n",
            "\n"
          ],
          "name": "stdout"
        }
      ]
    },
    {
      "cell_type": "markdown",
      "metadata": {
        "id": "1kNJmDMfvh8h",
        "colab_type": "text"
      },
      "source": [
        "Start a tensorflow session with loss, regularization, predictions, and regularized loss defined."
      ]
    },
    {
      "cell_type": "code",
      "metadata": {
        "id": "p_Hi3tjpvh8i",
        "colab_type": "code",
        "colab": {
          "base_uri": "https://localhost:8080/",
          "height": 105
        },
        "outputId": "dd57d5d6-cc41-40fb-af6f-a8d66ce0696a"
      },
      "source": [
        "basicModel.build()"
      ],
      "execution_count": 10,
      "outputs": [
        {
          "output_type": "stream",
          "text": [
            "WARNING:tensorflow:From /usr/local/lib/python3.6/dist-packages/psychrnn/backend/models/basic.py:23: The name tf.random_normal is deprecated. Please use tf.random.normal instead.\n",
            "\n",
            "WARNING:tensorflow:From /usr/local/lib/python3.6/dist-packages/psychrnn/backend/rnn.py:224: The name tf.Session is deprecated. Please use tf.compat.v1.Session instead.\n",
            "\n"
          ],
          "name": "stdout"
        }
      ]
    },
    {
      "cell_type": "markdown",
      "metadata": {
        "id": "dkqrsyFFvh8l",
        "colab_type": "text"
      },
      "source": [
        "Set the training parameters for our model. All of the parameters below are optional."
      ]
    },
    {
      "cell_type": "code",
      "metadata": {
        "id": "0f0TPUEGvh8m",
        "colab_type": "code",
        "colab": {}
      },
      "source": [
        "train_params = {}\n",
        "train_params['save_weights_path'] =  '../weights/refactor_weights.npz' # Where to save the model after training. Default: None\n",
        "train_params['training_iters'] = 100000 # number of iterations to train for Default: 10000\n",
        "train_params['learning_rate'] = .001 # Sets learning rate if use default optimizer Default: .001\n",
        "train_params['loss_epoch'] = 10 # Compute and record loss every 'loss_epoch' epochs. Default: 10\n",
        "train_params['verbosity'] = True # If true, prints information as training progresses. Default: True\n",
        "train_params['save_training_weights_epoch'] = 100 # save training weights every 'save_training_weights_epoch' epochs. Default: 100\n",
        "train_params['training_weights_path'] = None # where to save training weights as training progresses. Default: None\n",
        "train_params['curriculum'] = None # curriculum object, when not none, trains using curriculum learning. Replaces trial_batch_generator when not None. Default: None\n",
        "train_params['optimizer'] = tf.train.AdamOptimizer(learning_rate=train_params['learning_rate']) # What optimizer to use to compute gradients. Default: tf.train.AdamOptimizer(learning_rate=train_params['learning_rate'])\n",
        "train_params['clip_grads'] = True # If true, clip gradients by norm 1. Default: True"
      ],
      "execution_count": 0,
      "outputs": []
    },
    {
      "cell_type": "markdown",
      "metadata": {
        "id": "C3qdNP-Mvh8q",
        "colab_type": "text"
      },
      "source": [
        "Train our model."
      ]
    },
    {
      "cell_type": "code",
      "metadata": {
        "id": "vqA4iox0vh8r",
        "colab_type": "code",
        "outputId": "78194a8a-2eda-4ae8-9e7a-ccc038298621",
        "colab": {
          "base_uri": "https://localhost:8080/",
          "height": 1000
        }
      },
      "source": [
        "basicModel.train(gen, train_params)"
      ],
      "execution_count": 12,
      "outputs": [
        {
          "output_type": "stream",
          "text": [
            "WARNING:tensorflow:From /usr/local/lib/python3.6/dist-packages/tensorflow_core/python/ops/clip_ops.py:172: where (from tensorflow.python.ops.array_ops) is deprecated and will be removed in a future version.\n",
            "Instructions for updating:\n",
            "Use tf.where in 2.0, which has the same broadcast rule as np.where\n",
            "WARNING:tensorflow:From /usr/local/lib/python3.6/dist-packages/psychrnn/backend/rnn.py:355: The name tf.global_variables_initializer is deprecated. Please use tf.compat.v1.global_variables_initializer instead.\n",
            "\n",
            "Iter 500, Minibatch Loss= 0.103033\n",
            "Iter 1000, Minibatch Loss= 0.097110\n",
            "Iter 1500, Minibatch Loss= 0.083761\n",
            "Iter 2000, Minibatch Loss= 0.094153\n",
            "Iter 2500, Minibatch Loss= 0.079109\n",
            "Iter 3000, Minibatch Loss= 0.077228\n",
            "Iter 3500, Minibatch Loss= 0.074290\n",
            "Iter 4000, Minibatch Loss= 0.080742\n",
            "Iter 4500, Minibatch Loss= 0.077273\n",
            "Iter 5000, Minibatch Loss= 0.050874\n",
            "Iter 5500, Minibatch Loss= 0.042172\n",
            "Iter 6000, Minibatch Loss= 0.029777\n",
            "Iter 6500, Minibatch Loss= 0.024626\n",
            "Iter 7000, Minibatch Loss= 0.019695\n",
            "Iter 7500, Minibatch Loss= 0.019530\n",
            "Iter 8000, Minibatch Loss= 0.021115\n",
            "Iter 8500, Minibatch Loss= 0.052706\n",
            "Iter 9000, Minibatch Loss= 0.032543\n",
            "Iter 9500, Minibatch Loss= 0.017563\n",
            "Iter 10000, Minibatch Loss= 0.017820\n",
            "Iter 10500, Minibatch Loss= 0.012152\n",
            "Iter 11000, Minibatch Loss= 0.013811\n",
            "Iter 11500, Minibatch Loss= 0.014966\n",
            "Iter 12000, Minibatch Loss= 0.016927\n",
            "Iter 12500, Minibatch Loss= 0.013580\n",
            "Iter 13000, Minibatch Loss= 0.012167\n",
            "Iter 13500, Minibatch Loss= 0.037775\n",
            "Iter 14000, Minibatch Loss= 0.013421\n",
            "Iter 14500, Minibatch Loss= 0.014274\n",
            "Iter 15000, Minibatch Loss= 0.012597\n",
            "Iter 15500, Minibatch Loss= 0.017222\n",
            "Iter 16000, Minibatch Loss= 0.007761\n",
            "Iter 16500, Minibatch Loss= 0.010088\n",
            "Iter 17000, Minibatch Loss= 0.023171\n",
            "Iter 17500, Minibatch Loss= 0.010665\n",
            "Iter 18000, Minibatch Loss= 0.015835\n",
            "Iter 18500, Minibatch Loss= 0.009825\n",
            "Iter 19000, Minibatch Loss= 0.007015\n",
            "Iter 19500, Minibatch Loss= 0.008265\n",
            "Iter 20000, Minibatch Loss= 0.013149\n",
            "Iter 20500, Minibatch Loss= 0.011224\n",
            "Iter 21000, Minibatch Loss= 0.006522\n",
            "Iter 21500, Minibatch Loss= 0.008285\n",
            "Iter 22000, Minibatch Loss= 0.006365\n",
            "Iter 22500, Minibatch Loss= 0.007764\n",
            "Iter 23000, Minibatch Loss= 0.006847\n",
            "Iter 23500, Minibatch Loss= 0.007053\n",
            "Iter 24000, Minibatch Loss= 0.007865\n",
            "Iter 24500, Minibatch Loss= 0.006323\n",
            "Iter 25000, Minibatch Loss= 0.006378\n",
            "Iter 25500, Minibatch Loss= 0.005130\n",
            "Iter 26000, Minibatch Loss= 0.004404\n",
            "Iter 26500, Minibatch Loss= 0.006276\n",
            "Iter 27000, Minibatch Loss= 0.005421\n",
            "Iter 27500, Minibatch Loss= 0.008656\n",
            "Iter 28000, Minibatch Loss= 0.004861\n",
            "Iter 28500, Minibatch Loss= 0.005579\n",
            "Iter 29000, Minibatch Loss= 0.005670\n",
            "Iter 29500, Minibatch Loss= 0.005006\n",
            "Iter 30000, Minibatch Loss= 0.004723\n",
            "Iter 30500, Minibatch Loss= 0.004843\n",
            "Iter 31000, Minibatch Loss= 0.005659\n",
            "Iter 31500, Minibatch Loss= 0.004333\n",
            "Iter 32000, Minibatch Loss= 0.005233\n",
            "Iter 32500, Minibatch Loss= 0.004300\n",
            "Iter 33000, Minibatch Loss= 0.004480\n",
            "Iter 33500, Minibatch Loss= 0.004351\n",
            "Iter 34000, Minibatch Loss= 0.004226\n",
            "Iter 34500, Minibatch Loss= 0.004654\n",
            "Iter 35000, Minibatch Loss= 0.004120\n",
            "Iter 35500, Minibatch Loss= 0.004637\n",
            "Iter 36000, Minibatch Loss= 0.003953\n",
            "Iter 36500, Minibatch Loss= 0.003806\n",
            "Iter 37000, Minibatch Loss= 0.004128\n",
            "Iter 37500, Minibatch Loss= 0.003758\n",
            "Iter 38000, Minibatch Loss= 0.003624\n",
            "Iter 38500, Minibatch Loss= 0.004126\n",
            "Iter 39000, Minibatch Loss= 0.004085\n",
            "Iter 39500, Minibatch Loss= 0.004318\n",
            "Iter 40000, Minibatch Loss= 0.003784\n",
            "Iter 40500, Minibatch Loss= 0.003869\n",
            "Iter 41000, Minibatch Loss= 0.003891\n",
            "Iter 41500, Minibatch Loss= 0.004318\n",
            "Iter 42000, Minibatch Loss= 0.004247\n",
            "Iter 42500, Minibatch Loss= 0.013528\n",
            "Iter 43000, Minibatch Loss= 0.004766\n",
            "Iter 43500, Minibatch Loss= 0.004806\n",
            "Iter 44000, Minibatch Loss= 0.003817\n",
            "Iter 44500, Minibatch Loss= 0.003919\n",
            "Iter 45000, Minibatch Loss= 0.003731\n",
            "Iter 45500, Minibatch Loss= 0.003960\n",
            "Iter 46000, Minibatch Loss= 0.004153\n",
            "Iter 46500, Minibatch Loss= 0.003878\n",
            "Iter 47000, Minibatch Loss= 0.003758\n",
            "Iter 47500, Minibatch Loss= 0.003617\n",
            "Iter 48000, Minibatch Loss= 0.004191\n",
            "Iter 48500, Minibatch Loss= 0.003714\n",
            "Iter 49000, Minibatch Loss= 0.003731\n",
            "Iter 49500, Minibatch Loss= 0.003792\n",
            "Iter 50000, Minibatch Loss= 0.003885\n",
            "Iter 50500, Minibatch Loss= 0.003894\n",
            "Iter 51000, Minibatch Loss= 0.003526\n",
            "Iter 51500, Minibatch Loss= 0.003326\n",
            "Iter 52000, Minibatch Loss= 0.003544\n",
            "Iter 52500, Minibatch Loss= 0.003349\n",
            "Iter 53000, Minibatch Loss= 0.003654\n",
            "Iter 53500, Minibatch Loss= 0.003363\n",
            "Iter 54000, Minibatch Loss= 0.004718\n",
            "Iter 54500, Minibatch Loss= 0.004434\n",
            "Iter 55000, Minibatch Loss= 0.003986\n",
            "Iter 55500, Minibatch Loss= 0.003311\n",
            "Iter 56000, Minibatch Loss= 0.003771\n",
            "Iter 56500, Minibatch Loss= 0.003309\n",
            "Iter 57000, Minibatch Loss= 0.003424\n",
            "Iter 57500, Minibatch Loss= 0.003547\n",
            "Iter 58000, Minibatch Loss= 0.003103\n",
            "Iter 58500, Minibatch Loss= 0.003397\n",
            "Iter 59000, Minibatch Loss= 0.003460\n",
            "Iter 59500, Minibatch Loss= 0.003205\n",
            "Iter 60000, Minibatch Loss= 0.003259\n",
            "Iter 60500, Minibatch Loss= 0.003175\n",
            "Iter 61000, Minibatch Loss= 0.003217\n",
            "Iter 61500, Minibatch Loss= 0.003222\n",
            "Iter 62000, Minibatch Loss= 0.003201\n",
            "Iter 62500, Minibatch Loss= 0.003360\n",
            "Iter 63000, Minibatch Loss= 0.003224\n",
            "Iter 63500, Minibatch Loss= 0.003110\n",
            "Iter 64000, Minibatch Loss= 0.003100\n",
            "Iter 64500, Minibatch Loss= 0.003037\n",
            "Iter 65000, Minibatch Loss= 0.003155\n",
            "Iter 65500, Minibatch Loss= 0.003082\n",
            "Iter 66000, Minibatch Loss= 0.003169\n",
            "Iter 66500, Minibatch Loss= 0.003180\n",
            "Iter 67000, Minibatch Loss= 0.003196\n",
            "Iter 67500, Minibatch Loss= 0.003276\n",
            "Iter 68000, Minibatch Loss= 0.003034\n",
            "Iter 68500, Minibatch Loss= 0.002993\n",
            "Iter 69000, Minibatch Loss= 0.003020\n",
            "Iter 69500, Minibatch Loss= 0.002948\n",
            "Iter 70000, Minibatch Loss= 0.003223\n",
            "Iter 70500, Minibatch Loss= 0.002940\n",
            "Iter 71000, Minibatch Loss= 0.003212\n",
            "Iter 71500, Minibatch Loss= 0.002940\n",
            "Iter 72000, Minibatch Loss= 0.003201\n",
            "Iter 72500, Minibatch Loss= 0.002947\n",
            "Iter 73000, Minibatch Loss= 0.002839\n",
            "Iter 73500, Minibatch Loss= 0.002880\n",
            "Iter 74000, Minibatch Loss= 0.002924\n",
            "Iter 74500, Minibatch Loss= 0.003399\n",
            "Iter 75000, Minibatch Loss= 0.003080\n",
            "Iter 75500, Minibatch Loss= 0.002905\n",
            "Iter 76000, Minibatch Loss= 0.002722\n",
            "Iter 76500, Minibatch Loss= 0.003087\n",
            "Iter 77000, Minibatch Loss= 0.002795\n",
            "Iter 77500, Minibatch Loss= 0.002810\n",
            "Iter 78000, Minibatch Loss= 0.002753\n",
            "Iter 78500, Minibatch Loss= 0.002859\n",
            "Iter 79000, Minibatch Loss= 0.002947\n",
            "Iter 79500, Minibatch Loss= 0.002876\n",
            "Iter 80000, Minibatch Loss= 0.002783\n",
            "Iter 80500, Minibatch Loss= 0.003122\n",
            "Iter 81000, Minibatch Loss= 0.003164\n",
            "Iter 81500, Minibatch Loss= 0.002792\n",
            "Iter 82000, Minibatch Loss= 0.002804\n",
            "Iter 82500, Minibatch Loss= 0.002758\n",
            "Iter 83000, Minibatch Loss= 0.002754\n",
            "Iter 83500, Minibatch Loss= 0.002612\n",
            "Iter 84000, Minibatch Loss= 0.002569\n",
            "Iter 84500, Minibatch Loss= 0.002763\n",
            "Iter 85000, Minibatch Loss= 0.002589\n",
            "Iter 85500, Minibatch Loss= 0.002602\n",
            "Iter 86000, Minibatch Loss= 0.002623\n",
            "Iter 86500, Minibatch Loss= 0.002699\n",
            "Iter 87000, Minibatch Loss= 0.002810\n",
            "Iter 87500, Minibatch Loss= 0.002554\n",
            "Iter 88000, Minibatch Loss= 0.002713\n",
            "Iter 88500, Minibatch Loss= 0.002676\n",
            "Iter 89000, Minibatch Loss= 0.002779\n",
            "Iter 89500, Minibatch Loss= 0.002437\n",
            "Iter 90000, Minibatch Loss= 0.002612\n",
            "Iter 90500, Minibatch Loss= 0.002719\n",
            "Iter 91000, Minibatch Loss= 0.002530\n",
            "Iter 91500, Minibatch Loss= 0.002442\n",
            "Iter 92000, Minibatch Loss= 0.002515\n",
            "Iter 92500, Minibatch Loss= 0.002363\n",
            "Iter 93000, Minibatch Loss= 0.002579\n",
            "Iter 93500, Minibatch Loss= 0.002535\n",
            "Iter 94000, Minibatch Loss= 0.002423\n",
            "Iter 94500, Minibatch Loss= 0.002441\n",
            "Iter 95000, Minibatch Loss= 0.002535\n",
            "Iter 95500, Minibatch Loss= 0.002314\n",
            "Iter 96000, Minibatch Loss= 0.002173\n",
            "Iter 96500, Minibatch Loss= 0.002436\n",
            "Iter 97000, Minibatch Loss= 0.002141\n",
            "Iter 97500, Minibatch Loss= 0.002108\n",
            "Iter 98000, Minibatch Loss= 0.002170\n",
            "Iter 98500, Minibatch Loss= 0.002286\n",
            "Iter 99000, Minibatch Loss= 0.002152\n",
            "Iter 99500, Minibatch Loss= 0.002160\n",
            "Optimization finished!\n",
            "WARNING:tensorflow:From /usr/local/lib/python3.6/dist-packages/psychrnn/backend/rnn.py:278: The name tf.get_collection is deprecated. Please use tf.compat.v1.get_collection instead.\n",
            "\n",
            "WARNING:tensorflow:From /usr/local/lib/python3.6/dist-packages/psychrnn/backend/rnn.py:278: The name tf.GraphKeys is deprecated. Please use tf.compat.v1.GraphKeys instead.\n",
            "\n",
            "Model saved in file: ../weights/refactor_weights.npz\n"
          ],
          "name": "stdout"
        },
        {
          "output_type": "execute_result",
          "data": {
            "text/plain": [
              "([0.103032604,\n",
              "  0.09710957,\n",
              "  0.08376056,\n",
              "  0.09415336,\n",
              "  0.07910867,\n",
              "  0.077228464,\n",
              "  0.07428986,\n",
              "  0.08074182,\n",
              "  0.07727303,\n",
              "  0.05087381,\n",
              "  0.04217184,\n",
              "  0.029777154,\n",
              "  0.024625994,\n",
              "  0.019694772,\n",
              "  0.019529874,\n",
              "  0.021114517,\n",
              "  0.05270625,\n",
              "  0.03254288,\n",
              "  0.01756285,\n",
              "  0.017819747,\n",
              "  0.0121516865,\n",
              "  0.013810846,\n",
              "  0.014965924,\n",
              "  0.016926762,\n",
              "  0.013579789,\n",
              "  0.012167001,\n",
              "  0.037775397,\n",
              "  0.013421262,\n",
              "  0.014274375,\n",
              "  0.012596879,\n",
              "  0.017221915,\n",
              "  0.0077606826,\n",
              "  0.010087874,\n",
              "  0.02317068,\n",
              "  0.010665172,\n",
              "  0.015834829,\n",
              "  0.009824948,\n",
              "  0.00701454,\n",
              "  0.008265398,\n",
              "  0.013148677,\n",
              "  0.011223829,\n",
              "  0.006521501,\n",
              "  0.0082851155,\n",
              "  0.0063650156,\n",
              "  0.0077644973,\n",
              "  0.0068472265,\n",
              "  0.0070527643,\n",
              "  0.007864956,\n",
              "  0.006322898,\n",
              "  0.0063777776,\n",
              "  0.0051297224,\n",
              "  0.0044036857,\n",
              "  0.0062758033,\n",
              "  0.005421231,\n",
              "  0.008655917,\n",
              "  0.0048611267,\n",
              "  0.0055792658,\n",
              "  0.0056700204,\n",
              "  0.0050060623,\n",
              "  0.0047227074,\n",
              "  0.0048429808,\n",
              "  0.0056585725,\n",
              "  0.004332572,\n",
              "  0.0052330587,\n",
              "  0.004299801,\n",
              "  0.004479773,\n",
              "  0.004351292,\n",
              "  0.0042258827,\n",
              "  0.0046536513,\n",
              "  0.0041198554,\n",
              "  0.0046372483,\n",
              "  0.0039532706,\n",
              "  0.0038059945,\n",
              "  0.004127957,\n",
              "  0.0037581325,\n",
              "  0.0036235843,\n",
              "  0.004126265,\n",
              "  0.004085366,\n",
              "  0.0043184333,\n",
              "  0.0037839646,\n",
              "  0.0038685624,\n",
              "  0.0038912452,\n",
              "  0.004318051,\n",
              "  0.004247111,\n",
              "  0.013527643,\n",
              "  0.004765799,\n",
              "  0.004805707,\n",
              "  0.0038167688,\n",
              "  0.003918502,\n",
              "  0.003731047,\n",
              "  0.003959526,\n",
              "  0.004153088,\n",
              "  0.0038778228,\n",
              "  0.0037575956,\n",
              "  0.0036173488,\n",
              "  0.004191282,\n",
              "  0.0037135067,\n",
              "  0.0037313648,\n",
              "  0.003791607,\n",
              "  0.0038847632,\n",
              "  0.0038944145,\n",
              "  0.0035255523,\n",
              "  0.0033263909,\n",
              "  0.003543755,\n",
              "  0.0033491158,\n",
              "  0.0036543834,\n",
              "  0.0033628906,\n",
              "  0.0047176722,\n",
              "  0.0044337623,\n",
              "  0.003986445,\n",
              "  0.0033112415,\n",
              "  0.003770613,\n",
              "  0.0033085274,\n",
              "  0.0034240265,\n",
              "  0.0035469544,\n",
              "  0.0031032262,\n",
              "  0.003396787,\n",
              "  0.0034595616,\n",
              "  0.0032052074,\n",
              "  0.0032587822,\n",
              "  0.0031747634,\n",
              "  0.0032168545,\n",
              "  0.0032224064,\n",
              "  0.0032007957,\n",
              "  0.0033601264,\n",
              "  0.0032243829,\n",
              "  0.0031095343,\n",
              "  0.003099515,\n",
              "  0.003037131,\n",
              "  0.0031550485,\n",
              "  0.0030819797,\n",
              "  0.0031689734,\n",
              "  0.0031802135,\n",
              "  0.0031961096,\n",
              "  0.003275805,\n",
              "  0.0030337009,\n",
              "  0.0029931918,\n",
              "  0.0030198852,\n",
              "  0.0029479978,\n",
              "  0.0032225724,\n",
              "  0.0029396503,\n",
              "  0.0032124335,\n",
              "  0.0029400138,\n",
              "  0.0032013007,\n",
              "  0.002947463,\n",
              "  0.0028385709,\n",
              "  0.0028796005,\n",
              "  0.002923546,\n",
              "  0.0033987435,\n",
              "  0.0030799333,\n",
              "  0.0029050289,\n",
              "  0.0027219388,\n",
              "  0.0030872393,\n",
              "  0.0027952136,\n",
              "  0.0028095962,\n",
              "  0.0027526391,\n",
              "  0.0028585137,\n",
              "  0.0029466548,\n",
              "  0.002876289,\n",
              "  0.0027830955,\n",
              "  0.003121856,\n",
              "  0.0031644476,\n",
              "  0.002791681,\n",
              "  0.0028042605,\n",
              "  0.0027576885,\n",
              "  0.0027539653,\n",
              "  0.0026115384,\n",
              "  0.0025692524,\n",
              "  0.0027632643,\n",
              "  0.0025893075,\n",
              "  0.0026020743,\n",
              "  0.0026229974,\n",
              "  0.0026991381,\n",
              "  0.0028103858,\n",
              "  0.002553754,\n",
              "  0.0027128886,\n",
              "  0.0026760194,\n",
              "  0.0027794044,\n",
              "  0.0024366109,\n",
              "  0.002612046,\n",
              "  0.0027192817,\n",
              "  0.002530096,\n",
              "  0.0024418454,\n",
              "  0.0025152809,\n",
              "  0.0023627263,\n",
              "  0.0025793512,\n",
              "  0.0025352542,\n",
              "  0.0024228753,\n",
              "  0.002441312,\n",
              "  0.002534868,\n",
              "  0.002313641,\n",
              "  0.0021729325,\n",
              "  0.0024359669,\n",
              "  0.002141418,\n",
              "  0.0021082442,\n",
              "  0.0021700724,\n",
              "  0.0022862758,\n",
              "  0.0021522886,\n",
              "  0.002160079],\n",
              " 369.040235042572,\n",
              " 17.498600721359253)"
            ]
          },
          "metadata": {
            "tags": []
          },
          "execution_count": 12
        }
      ]
    },
    {
      "cell_type": "markdown",
      "metadata": {
        "id": "JvkLtsacvh81",
        "colab_type": "text"
      },
      "source": [
        "### Plot results"
      ]
    },
    {
      "cell_type": "markdown",
      "metadata": {
        "id": "OWUuSBj4vh82",
        "colab_type": "text"
      },
      "source": [
        "Extract the next trial from the generator"
      ]
    },
    {
      "cell_type": "code",
      "metadata": {
        "id": "tBrSJ_eevh83",
        "colab_type": "code",
        "colab": {}
      },
      "source": [
        "x,y,m, _ = next(gen)"
      ],
      "execution_count": 0,
      "outputs": []
    },
    {
      "cell_type": "markdown",
      "metadata": {
        "id": "GfJKbCwWvh87",
        "colab_type": "text"
      },
      "source": [
        "Plot the x value of the trial -- for the RDM, this includes two input neurons with different coherence."
      ]
    },
    {
      "cell_type": "code",
      "metadata": {
        "id": "_O0ss5iDvh89",
        "colab_type": "code",
        "outputId": "fb26670a-c0ef-4a4d-e344-5bff8ea8203e",
        "colab": {
          "base_uri": "https://localhost:8080/",
          "height": 312
        }
      },
      "source": [
        "plt.plot(range(0, len(x[0,:,:])*dt,dt), x[0,:,:])\n",
        "plt.ylabel(\"Input Magnitude\")\n",
        "plt.xlabel(\"Time (ms)\")\n",
        "plt.title(\"Input Data\")"
      ],
      "execution_count": 14,
      "outputs": [
        {
          "output_type": "execute_result",
          "data": {
            "text/plain": [
              "Text(0.5, 1.0, 'Input Data')"
            ]
          },
          "metadata": {
            "tags": []
          },
          "execution_count": 14
        },
        {
          "output_type": "display_data",
          "data": {
            "image/png": "[encoded data removed]",
            "text/plain": [
              "<Figure size 432x288 with 1 Axes>"
            ]
          },
          "metadata": {
            "tags": []
          }
        }
      ]
    },
    {
      "cell_type": "markdown",
      "metadata": {
        "id": "iWDUhokQvh9A",
        "colab_type": "text"
      },
      "source": [
        "Run the trained model on this trial (not included in the training set)."
      ]
    },
    {
      "cell_type": "code",
      "metadata": {
        "id": "Fhz7X2vwvh9B",
        "colab_type": "code",
        "colab": {}
      },
      "source": [
        "results = basicModel.test(x)\n",
        "output = results[0]\n",
        "state_var = results[1]"
      ],
      "execution_count": 0,
      "outputs": []
    },
    {
      "cell_type": "code",
      "metadata": {
        "id": "Hy-PHkScvh9E",
        "colab_type": "code",
        "outputId": "3c22418f-be33-4490-8f49-7859aba5cebb",
        "colab": {
          "base_uri": "https://localhost:8080/",
          "height": 312
        }
      },
      "source": [
        "plt.plot(range(0, len(output[0,:,:])*dt,dt),output[0,:,:])\n",
        "plt.ylabel(\"Activity of Output Unit\")\n",
        "plt.xlabel(\"Time (ms)\")\n",
        "plt.title(\"Output on New Sample\")"
      ],
      "execution_count": 16,
      "outputs": [
        {
          "output_type": "execute_result",
          "data": {
            "text/plain": [
              "Text(0.5, 1.0, 'Output on New Sample')"
            ]
          },
          "metadata": {
            "tags": []
          },
          "execution_count": 16
        },
        {
          "output_type": "display_data",
          "data": {
            "image/png": "[encoded data removed]",
            "text/plain": [
              "<Figure size 432x288 with 1 Axes>"
            ]
          },
          "metadata": {
            "tags": []
          }
        }
      ]
    },
    {
      "cell_type": "code",
      "metadata": {
        "id": "ItlSfyMSvh9G",
        "colab_type": "code",
        "outputId": "bdf58523-a3b1-4cb5-fb87-cc24bb63eed8",
        "colab": {
          "base_uri": "https://localhost:8080/",
          "height": 312
        }
      },
      "source": [
        "plt.plot(range(0, len(state_var[0,:,:])*dt,dt),state_var[0,:,:])\n",
        "plt.ylabel(\"State Variable Value\")\n",
        "plt.xlabel(\"Time (ms)\")\n",
        "plt.title(\"Evolution of State Variables over Time\")"
      ],
      "execution_count": 17,
      "outputs": [
        {
          "output_type": "execute_result",
          "data": {
            "text/plain": [
              "Text(0.5, 1.0, 'Evolution of State Variables over Time')"
            ]
          },
          "metadata": {
            "tags": []
          },
          "execution_count": 17
        },
        {
          "output_type": "display_data",
          "data": {
            "image/png": "[encoded data removed]",
            "text/plain": [
              "<Figure size 432x288 with 1 Axes>"
            ]
          },
          "metadata": {
            "tags": []
          }
        }
      ]
    },
    {
      "cell_type": "markdown",
      "metadata": {
        "id": "_lN7UJftvh9J",
        "colab_type": "text"
      },
      "source": [
        "Clean up the model to clear out the tensorflow namespace"
      ]
    },
    {
      "cell_type": "code",
      "metadata": {
        "id": "sryn81tGvh9L",
        "colab_type": "code",
        "colab": {
          "base_uri": "https://localhost:8080/",
          "height": 71
        },
        "outputId": "65586c6f-462c-4197-ae5f-e40cd8632141"
      },
      "source": [
        "basicModel.destruct()"
      ],
      "execution_count": 18,
      "outputs": [
        {
          "output_type": "stream",
          "text": [
            "WARNING:tensorflow:From /usr/local/lib/python3.6/dist-packages/psychrnn/backend/rnn.py:239: The name tf.reset_default_graph is deprecated. Please use tf.compat.v1.reset_default_graph instead.\n",
            "\n"
          ],
          "name": "stdout"
        }
      ]
    },
    {
      "cell_type": "code",
      "metadata": {
        "id": "5EEP0_iJvh9T",
        "colab_type": "code",
        "colab": {}
      },
      "source": [
        ""
      ],
      "execution_count": 0,
      "outputs": []
    }
  ]
}