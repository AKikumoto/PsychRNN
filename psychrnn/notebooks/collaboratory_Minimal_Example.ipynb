{
  "nbformat": 4,
  "nbformat_minor": 0,
  "metadata": {
    "kernelspec": {
      "display_name": "Python 3",
      "language": "python",
      "name": "python3"
    },
    "language_info": {
      "codemirror_mode": {
        "name": "ipython",
        "version": 3
      },
      "file_extension": ".py",
      "mimetype": "text/x-python",
      "name": "python",
      "nbconvert_exporter": "python",
      "pygments_lexer": "ipython3",
      "version": "3.6.7"
    },
    "colab": {
      "name": "Minimal_Example.ipynb",
      "provenance": [],
      "include_colab_link": true
    }
  },
  "cells": [
    {
      "cell_type": "markdown",
      "metadata": {
        "id": "view-in-github",
        "colab_type": "text"
      },
      "source": [
        "<a href=\"https://colab.research.google.com/github/dbehrlich/PsychRNN/blob/master/psychrnn/notebooks/collaboratory_Minimal_Example.ipynb\" target=\"_parent\"><img src=\"https://colab.research.google.com/assets/colab-badge.svg\" alt=\"Open In Colab\"/></a>"
      ]
    },
    {
      "cell_type": "code",
      "metadata": {
        "id": "vu1uv4_o1cLG",
        "colab_type": "code",
        "colab": {
          "base_uri": "https://localhost:8080/",
          "height": 918
        },
        "outputId": "6b0a5218-1890-4869-a2ed-8cd8ab4ac283"
      },
      "source": [
        "!pip install git+https://github.com/dbehrlich/PsychRNN\n",
        "import psychrnn\n",
        "from psychrnn.tasks import rdm as rd\n",
        "from psychrnn.backend.models.basic import Basic\n",
        "import tensorflow as tf\n",
        "\n",
        "from matplotlib import pyplot as plt\n",
        "%matplotlib inline\n",
        "\n",
        "rdm = rd.RDM(dt = 10, tau = 100, T = 2000, N_batch = 128)\n",
        "gen = rdm.batch_generator()\n",
        "\n",
        "params = rdm.__dict__\n",
        "params['name'] = 'model'\n",
        "params['N_rec'] = 50\n",
        "\n",
        "model = Basic(params)\n",
        "model.build()\n",
        "model.train(gen)\n",
        "\n",
        "x,_,_,_ = next(gen)\n",
        "\n",
        "plt.plot(model.test(x)[0][0,:,:])\n",
        "\n",
        "model.destruct()"
      ],
      "execution_count": 1,
      "outputs": [
        {
          "output_type": "stream",
          "text": [
            "Collecting git+https://github.com/dbehrlich/PsychRNN\n",
            "  Cloning https://github.com/dbehrlich/PsychRNN to /tmp/pip-req-build-16s7doda\n",
            "  Running command git clone -q https://github.com/dbehrlich/PsychRNN /tmp/pip-req-build-16s7doda\n",
            "Building wheels for collected packages: PsychRNN\n",
            "  Building wheel for PsychRNN (setup.py) ... \u001b[?25l\u001b[?25hdone\n",
            "  Created wheel for PsychRNN: filename=PsychRNN-0.4-cp36-none-any.whl size=19014 sha256=2d613ddab902d731dd11d4f0094797fd7889d0d985e10c60bb26e6b7c595ef9a\n",
            "  Stored in directory: /tmp/pip-ephem-wheel-cache-g6wbaujy/wheels/24/44/54/2501bc5f6d66714639081a558a3ddf4be814710f2c30c745fc\n",
            "Successfully built PsychRNN\n",
            "Installing collected packages: PsychRNN\n",
            "Successfully installed PsychRNN-0.4\n",
            "WARNING:tensorflow:From /usr/local/lib/python3.6/dist-packages/psychrnn/backend/rnn.py:121: The name tf.placeholder is deprecated. Please use tf.compat.v1.placeholder instead.\n",
            "\n",
            "WARNING:tensorflow:From /usr/local/lib/python3.6/dist-packages/psychrnn/backend/rnn.py:128: The name tf.variable_scope is deprecated. Please use tf.compat.v1.variable_scope instead.\n",
            "\n",
            "WARNING:tensorflow:From /usr/local/lib/python3.6/dist-packages/psychrnn/backend/rnn.py:134: The name tf.get_variable is deprecated. Please use tf.compat.v1.get_variable instead.\n",
            "\n",
            "WARNING:tensorflow:From /usr/local/lib/python3.6/dist-packages/psychrnn/backend/models/basic.py:23: The name tf.random_normal is deprecated. Please use tf.random.normal instead.\n",
            "\n",
            "WARNING:tensorflow:From /usr/local/lib/python3.6/dist-packages/psychrnn/backend/rnn.py:225: The name tf.Session is deprecated. Please use tf.compat.v1.Session instead.\n",
            "\n",
            "WARNING:tensorflow:From /usr/local/lib/python3.6/dist-packages/psychrnn/backend/rnn.py:318: The name tf.train.AdamOptimizer is deprecated. Please use tf.compat.v1.train.AdamOptimizer instead.\n",
            "\n",
            "WARNING:tensorflow:From /usr/local/lib/python3.6/dist-packages/tensorflow_core/python/ops/clip_ops.py:172: where (from tensorflow.python.ops.array_ops) is deprecated and will be removed in a future version.\n",
            "Instructions for updating:\n",
            "Use tf.where in 2.0, which has the same broadcast rule as np.where\n",
            "WARNING:tensorflow:From /usr/local/lib/python3.6/dist-packages/psychrnn/backend/rnn.py:360: The name tf.global_variables_initializer is deprecated. Please use tf.compat.v1.global_variables_initializer instead.\n",
            "\n",
            "Iter 1280, Minibatch Loss= 0.206811\n",
            "Iter 2560, Minibatch Loss= 0.129487\n",
            "Iter 3840, Minibatch Loss= 0.094579\n",
            "Iter 5120, Minibatch Loss= 0.090727\n",
            "Iter 6400, Minibatch Loss= 0.087180\n",
            "Iter 7680, Minibatch Loss= 0.084206\n",
            "Iter 8960, Minibatch Loss= 0.083329\n",
            "Optimization finished!\n",
            "WARNING:tensorflow:From /usr/local/lib/python3.6/dist-packages/psychrnn/backend/rnn.py:240: The name tf.reset_default_graph is deprecated. Please use tf.compat.v1.reset_default_graph instead.\n",
            "\n"
          ],
          "name": "stdout"
        },
        {
          "output_type": "display_data",
          "data": {
            "image/png": "[encoded data removed]",
            "text/plain": [
              "<Figure size 432x288 with 1 Axes>"
            ]
          },
          "metadata": {
            "tags": []
          }
        }
      ]
    },
    {
      "cell_type": "code",
      "metadata": {
        "id": "ExTN2T5M1cLf",
        "colab_type": "code",
        "colab": {}
      },
      "source": [
        ""
      ],
      "execution_count": 0,
      "outputs": []
    }
  ]
}